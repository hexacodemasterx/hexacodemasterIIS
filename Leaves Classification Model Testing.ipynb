{
 "cells": [
  {
   "cell_type": "code",
   "execution_count": 1,
   "id": "4465c436",
   "metadata": {},
   "outputs": [],
   "source": [
    "import numpy as np\n",
    "import tensorflow as tf\n",
    "from tensorflow.keras.models import Sequential\n",
    "from tensorflow.keras.layers import Conv2D, MaxPooling2D, Flatten, Dense, Dropout\n",
    "from tensorflow.keras.preprocessing.image import ImageDataGenerator"
   ]
  },
  {
   "cell_type": "code",
   "execution_count": 2,
   "id": "9d80f3da",
   "metadata": {},
   "outputs": [],
   "source": [
    "IMG_WIDTH, IMG_HEIGHT = 128, 128\n",
    "BATCH_SIZE = 32\n",
    "EPOCHS = 20\n",
    "NUM_CLASSES = 3"
   ]
  },
  {
   "cell_type": "code",
   "execution_count": 3,
   "id": "1c4bfdf2",
   "metadata": {},
   "outputs": [],
   "source": [
    "train_data_dir = 'D:\\Dataset\\TrainSet'\n",
    "validation_data_dir = 'D:\\Dataset\\ValidateSet'"
   ]
  },
  {
   "cell_type": "code",
   "execution_count": 4,
   "id": "49ff0e67",
   "metadata": {},
   "outputs": [
    {
     "name": "stdout",
     "output_type": "stream",
     "text": [
      "Found 264 images belonging to 3 classes.\n",
      "Found 36 images belonging to 3 classes.\n"
     ]
    }
   ],
   "source": [
    "train_datagen = ImageDataGenerator(\n",
    "    rescale=1./255,\n",
    "    shear_range=0.2,\n",
    "    zoom_range=0.2,\n",
    "    horizontal_flip=True)\n",
    "\n",
    "test_datagen = ImageDataGenerator(rescale=1./255)\n",
    "\n",
    "train_generator = train_datagen.flow_from_directory(\n",
    "    train_data_dir,\n",
    "    target_size=(IMG_WIDTH, IMG_HEIGHT),\n",
    "    batch_size=BATCH_SIZE,\n",
    "    class_mode='categorical')\n",
    "\n",
    "validation_generator = test_datagen.flow_from_directory(\n",
    "    validation_data_dir,\n",
    "    target_size=(IMG_WIDTH, IMG_HEIGHT),\n",
    "    batch_size=BATCH_SIZE,\n",
    "    class_mode='categorical')"
   ]
  },
  {
   "cell_type": "code",
   "execution_count": 5,
   "id": "f271011c",
   "metadata": {},
   "outputs": [],
   "source": [
    "model = Sequential([\n",
    "    Conv2D(32, (3, 3), activation='relu', input_shape=(IMG_WIDTH, IMG_HEIGHT, 3)),\n",
    "    MaxPooling2D(pool_size=(2, 2)),\n",
    "    Conv2D(64, (3, 3), activation='relu'),\n",
    "    MaxPooling2D(pool_size=(2, 2)),\n",
    "    Conv2D(128, (3, 3), activation='relu'),\n",
    "    MaxPooling2D(pool_size=(2, 2)),\n",
    "    Flatten(),\n",
    "    Dense(256, activation='relu'),\n",
    "    Dropout(0.5),\n",
    "    Dense(NUM_CLASSES, activation='softmax')\n",
    "])"
   ]
  },
  {
   "cell_type": "code",
   "execution_count": 6,
   "id": "5be45df3",
   "metadata": {},
   "outputs": [],
   "source": [
    "model.compile(optimizer='adam',\n",
    "              loss='categorical_crossentropy',\n",
    "              metrics=['accuracy'])"
   ]
  },
  {
   "cell_type": "code",
   "execution_count": 7,
   "id": "439d4525",
   "metadata": {},
   "outputs": [
    {
     "name": "stdout",
     "output_type": "stream",
     "text": [
      "Epoch 1/20\n",
      "8/8 [==============================] - 14s 2s/step - loss: 1.3490 - accuracy: 0.2845 - val_loss: 1.0316 - val_accuracy: 0.3125\n",
      "Epoch 2/20\n",
      "8/8 [==============================] - 11s 1s/step - loss: 0.9825 - accuracy: 0.4698 - val_loss: 0.9394 - val_accuracy: 0.5312\n",
      "Epoch 3/20\n",
      "8/8 [==============================] - 11s 1s/step - loss: 1.0494 - accuracy: 0.4526 - val_loss: 0.7300 - val_accuracy: 0.5938\n",
      "Epoch 4/20\n",
      "8/8 [==============================] - 11s 1s/step - loss: 0.9016 - accuracy: 0.5560 - val_loss: 0.6609 - val_accuracy: 0.5938\n",
      "Epoch 5/20\n",
      "8/8 [==============================] - 11s 1s/step - loss: 0.7688 - accuracy: 0.6250 - val_loss: 0.3732 - val_accuracy: 0.9688\n",
      "Epoch 6/20\n",
      "8/8 [==============================] - 12s 2s/step - loss: 0.6896 - accuracy: 0.6719 - val_loss: 0.3525 - val_accuracy: 0.9062\n",
      "Epoch 7/20\n",
      "8/8 [==============================] - 11s 1s/step - loss: 0.6187 - accuracy: 0.6638 - val_loss: 0.2391 - val_accuracy: 1.0000\n",
      "Epoch 8/20\n",
      "8/8 [==============================] - 12s 1s/step - loss: 0.5740 - accuracy: 0.7031 - val_loss: 0.3558 - val_accuracy: 0.7188\n",
      "Epoch 9/20\n",
      "8/8 [==============================] - 11s 1s/step - loss: 0.5244 - accuracy: 0.7500 - val_loss: 0.2463 - val_accuracy: 0.9688\n",
      "Epoch 10/20\n",
      "8/8 [==============================] - 11s 1s/step - loss: 0.4763 - accuracy: 0.7672 - val_loss: 0.2536 - val_accuracy: 0.9688\n",
      "Epoch 11/20\n",
      "8/8 [==============================] - 11s 1s/step - loss: 0.4556 - accuracy: 0.8017 - val_loss: 0.2078 - val_accuracy: 1.0000\n",
      "Epoch 12/20\n",
      "8/8 [==============================] - 12s 1s/step - loss: 0.4490 - accuracy: 0.7759 - val_loss: 0.2288 - val_accuracy: 1.0000\n",
      "Epoch 13/20\n",
      "8/8 [==============================] - 12s 1s/step - loss: 0.4210 - accuracy: 0.8103 - val_loss: 0.1507 - val_accuracy: 1.0000\n",
      "Epoch 14/20\n",
      "8/8 [==============================] - 12s 1s/step - loss: 0.3828 - accuracy: 0.8190 - val_loss: 0.2102 - val_accuracy: 0.9062\n",
      "Epoch 15/20\n",
      "8/8 [==============================] - 12s 1s/step - loss: 0.4079 - accuracy: 0.8017 - val_loss: 0.3222 - val_accuracy: 0.8125\n",
      "Epoch 16/20\n",
      "8/8 [==============================] - 12s 1s/step - loss: 0.3920 - accuracy: 0.8448 - val_loss: 0.4247 - val_accuracy: 0.7500\n",
      "Epoch 17/20\n",
      "8/8 [==============================] - 12s 1s/step - loss: 0.4729 - accuracy: 0.8060 - val_loss: 0.3566 - val_accuracy: 0.8438\n",
      "Epoch 18/20\n",
      "8/8 [==============================] - 12s 2s/step - loss: 0.4323 - accuracy: 0.8147 - val_loss: 0.7980 - val_accuracy: 0.7500\n",
      "Epoch 19/20\n",
      "8/8 [==============================] - 12s 1s/step - loss: 0.4302 - accuracy: 0.8017 - val_loss: 0.4623 - val_accuracy: 0.7812\n",
      "Epoch 20/20\n",
      "8/8 [==============================] - 12s 1s/step - loss: 0.3136 - accuracy: 0.8621 - val_loss: 0.5228 - val_accuracy: 0.7500\n"
     ]
    },
    {
     "data": {
      "text/plain": [
       "<tensorflow.python.keras.callbacks.History at 0x26f4009b908>"
      ]
     },
     "execution_count": 7,
     "metadata": {},
     "output_type": "execute_result"
    }
   ],
   "source": [
    "model.fit(\n",
    "    train_generator,\n",
    "    steps_per_epoch=train_generator.samples // BATCH_SIZE,\n",
    "    epochs=EPOCHS,\n",
    "    validation_data=validation_generator,\n",
    "    validation_steps=validation_generator.samples // BATCH_SIZE\n",
    ")"
   ]
  },
  {
   "cell_type": "code",
   "execution_count": 8,
   "id": "1b1f4f1c",
   "metadata": {},
   "outputs": [],
   "source": [
    "model.save('leaf_classification_model.h5')"
   ]
  },
  {
   "cell_type": "code",
   "execution_count": 10,
   "id": "d33c3803",
   "metadata": {},
   "outputs": [
    {
     "name": "stdout",
     "output_type": "stream",
     "text": [
      "2/2 [==============================] - 1s 98ms/step - loss: 0.4687 - accuracy: 0.7778\n",
      "Validation Accuracy: 77.78%\n"
     ]
    }
   ],
   "source": [
    "scores = model.evaluate(validation_generator)\n",
    "print(\"Validation Accuracy: %.2f%%\" % (scores[1]*100))"
   ]
  },
  {
   "cell_type": "code",
   "execution_count": 13,
   "id": "73ff14ed",
   "metadata": {},
   "outputs": [
    {
     "name": "stdout",
     "output_type": "stream",
     "text": [
      "Predicted Class: Koppa\n"
     ]
    }
   ],
   "source": [
    "import numpy as np\n",
    "from tensorflow.keras.preprocessing import image\n",
    "from tensorflow.keras.models import load_model\n",
    "\n",
    "model = load_model('leaf_classification_model.h5')\n",
    "\n",
    "def load_and_preprocess_image(image_path):\n",
    "    img = image.load_img(image_path, target_size=(IMG_WIDTH, IMG_HEIGHT))\n",
    "    img_array = image.img_to_array(img)\n",
    "    img_array = np.expand_dims(img_array, axis=0) / 255.0  # Normalize\n",
    "    return img_array\n",
    "\n",
    "input_image_path = r'C:\\Users\\HP\\Desktop\\r.jpg'\n",
    "\n",
    "input_image = load_and_preprocess_image(input_image_path)\n",
    "\n",
    "predictions = model.predict(input_image)\n",
    "\n",
    "predicted_class = np.argmax(predictions)\n",
    "\n",
    "class_labels = ['Gotukola', 'Koppa', 'Ral Koppa']\n",
    "predicted_label = class_labels[predicted_class]\n",
    "\n",
    "print(\"Predicted Class:\", predicted_label)"
   ]
  },
  {
   "cell_type": "code",
   "execution_count": 15,
   "id": "f9b37ad9",
   "metadata": {},
   "outputs": [
    {
     "name": "stdout",
     "output_type": "stream",
     "text": [
      "Predicted Class: Gotukola\n"
     ]
    }
   ],
   "source": [
    "import numpy as np\n",
    "from tensorflow.keras.preprocessing import image\n",
    "from tensorflow.keras.models import load_model\n",
    "\n",
    "model = load_model('leaf_classification_model.h5')\n",
    "\n",
    "def load_and_preprocess_image(image_path):\n",
    "    img = image.load_img(image_path, target_size=(IMG_WIDTH, IMG_HEIGHT))\n",
    "    img_array = image.img_to_array(img)\n",
    "    img_array = np.expand_dims(img_array, axis=0) / 255.0  # Normalize\n",
    "    return img_array\n",
    "\n",
    "input_image_path = r'C:\\Users\\HP\\Desktop\\x.jpg'\n",
    "\n",
    "input_image = load_and_preprocess_image(input_image_path)\n",
    "\n",
    "predictions = model.predict(input_image)\n",
    "\n",
    "predicted_class = np.argmax(predictions)\n",
    "\n",
    "class_labels = ['Gotukola', 'Koppa', 'Ral Koppa']\n",
    "predicted_label = class_labels[predicted_class]\n",
    "\n",
    "print(\"Predicted Class:\", predicted_label)"
   ]
  },
  {
   "cell_type": "code",
   "execution_count": 16,
   "id": "cf4bf7cc",
   "metadata": {},
   "outputs": [
    {
     "name": "stdout",
     "output_type": "stream",
     "text": [
      "Predicted Class: Ral Koppa\n"
     ]
    }
   ],
   "source": [
    "import numpy as np\n",
    "from tensorflow.keras.preprocessing import image\n",
    "from tensorflow.keras.models import load_model\n",
    "\n",
    "model = load_model('leaf_classification_model.h5')\n",
    "\n",
    "def load_and_preprocess_image(image_path):\n",
    "    img = image.load_img(image_path, target_size=(IMG_WIDTH, IMG_HEIGHT))\n",
    "    img_array = image.img_to_array(img)\n",
    "    img_array = np.expand_dims(img_array, axis=0) / 255.0  # Normalize\n",
    "    return img_array\n",
    "\n",
    "input_image_path = r'C:\\Users\\HP\\Desktop\\10.jpg'\n",
    "\n",
    "input_image = load_and_preprocess_image(input_image_path)\n",
    "\n",
    "predictions = model.predict(input_image)\n",
    "\n",
    "predicted_class = np.argmax(predictions)\n",
    "\n",
    "class_labels = ['Gotukola', 'Koppa', 'Ral Koppa']\n",
    "predicted_label = class_labels[predicted_class]\n",
    "\n",
    "print(\"Predicted Class:\", predicted_label)"
   ]
  },
  {
   "cell_type": "code",
   "execution_count": 17,
   "id": "c223b5de",
   "metadata": {},
   "outputs": [
    {
     "name": "stdout",
     "output_type": "stream",
     "text": [
      "Predicted Class: Gotukola\n"
     ]
    }
   ],
   "source": [
    "import numpy as np\n",
    "from tensorflow.keras.preprocessing import image\n",
    "from tensorflow.keras.models import load_model\n",
    "\n",
    "model = load_model('leaf_classification_model.h5')\n",
    "\n",
    "def load_and_preprocess_image(image_path):\n",
    "    img = image.load_img(image_path, target_size=(IMG_WIDTH, IMG_HEIGHT))\n",
    "    img_array = image.img_to_array(img)\n",
    "    img_array = np.expand_dims(img_array, axis=0) / 255.0  # Normalize\n",
    "    return img_array\n",
    "\n",
    "input_image_path = r'C:\\Users\\HP\\Desktop\\x.jpg'\n",
    "\n",
    "input_image = load_and_preprocess_image(input_image_path)\n",
    "\n",
    "predictions = model.predict(input_image)\n",
    "\n",
    "predicted_class = np.argmax(predictions)\n",
    "\n",
    "class_labels = ['Gotukola', 'Koppa', 'Ral Koppa']\n",
    "predicted_label = class_labels[predicted_class]\n",
    "\n",
    "print(\"Predicted Class:\", predicted_label)"
   ]
  },
  {
   "cell_type": "code",
   "execution_count": 18,
   "id": "a60ecd23",
   "metadata": {},
   "outputs": [
    {
     "name": "stdout",
     "output_type": "stream",
     "text": [
      "WARNING:tensorflow:5 out of the last 5 calls to <function Model.make_predict_function.<locals>.predict_function at 0x0000026F44821948> triggered tf.function retracing. Tracing is expensive and the excessive number of tracings could be due to (1) creating @tf.function repeatedly in a loop, (2) passing tensors with different shapes, (3) passing Python objects instead of tensors. For (1), please define your @tf.function outside of the loop. For (2), @tf.function has experimental_relax_shapes=True option that relaxes argument shapes that can avoid unnecessary retracing. For (3), please refer to https://www.tensorflow.org/guide/function#controlling_retracing and https://www.tensorflow.org/api_docs/python/tf/function for  more details.\n",
      "Predicted Class: Koppa\n"
     ]
    }
   ],
   "source": [
    "import numpy as np\n",
    "from tensorflow.keras.preprocessing import image\n",
    "from tensorflow.keras.models import load_model\n",
    "\n",
    "model = load_model('leaf_classification_model.h5')\n",
    "\n",
    "def load_and_preprocess_image(image_path):\n",
    "    img = image.load_img(image_path, target_size=(IMG_WIDTH, IMG_HEIGHT))\n",
    "    img_array = image.img_to_array(img)\n",
    "    img_array = np.expand_dims(img_array, axis=0) / 255.0  # Normalize\n",
    "    return img_array\n",
    "\n",
    "input_image_path = r'C:\\Users\\HP\\Desktop\\r.jpg'\n",
    "\n",
    "input_image = load_and_preprocess_image(input_image_path)\n",
    "\n",
    "predictions = model.predict(input_image)\n",
    "\n",
    "predicted_class = np.argmax(predictions)\n",
    "\n",
    "class_labels = ['Gotukola', 'Koppa', 'Ral Koppa']\n",
    "predicted_label = class_labels[predicted_class]\n",
    "\n",
    "print(\"Predicted Class:\", predicted_label)"
   ]
  },
  {
   "cell_type": "code",
   "execution_count": null,
   "id": "e4488b6e",
   "metadata": {},
   "outputs": [],
   "source": []
  }
 ],
 "metadata": {
  "kernelspec": {
   "display_name": "Python 3 (ipykernel)",
   "language": "python",
   "name": "python3"
  },
  "language_info": {
   "codemirror_mode": {
    "name": "ipython",
    "version": 3
   },
   "file_extension": ".py",
   "mimetype": "text/x-python",
   "name": "python",
   "nbconvert_exporter": "python",
   "pygments_lexer": "ipython3",
   "version": "3.7.16"
  }
 },
 "nbformat": 4,
 "nbformat_minor": 5
}
