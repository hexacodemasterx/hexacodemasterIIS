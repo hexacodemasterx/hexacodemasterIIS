{
 "cells": [
  {
   "cell_type": "code",
   "execution_count": 4,
   "id": "b5bc5c48",
   "metadata": {},
   "outputs": [
    {
     "name": "stdout",
     "output_type": "stream",
     "text": [
      "Predicted Class: Ral Koppa\n"
     ]
    }
   ],
   "source": [
    "import numpy as np\n",
    "from tensorflow.keras.preprocessing import image\n",
    "from tensorflow.keras.models import load_model\n",
    "\n",
    "model = load_model('leaf_classification_model.h5')\n",
    "\n",
    "def load_and_preprocess_image(image_path):\n",
    "    img = image.load_img(image_path, target_size=(128, 128))\n",
    "    img_array = image.img_to_array(img)\n",
    "    img_array = np.expand_dims(img_array, axis=0) / 255.0\n",
    "    return img_array\n",
    "\n",
    "input_image_path = r'C:\\Users\\HP\\Desktop\\m.jpg'\n",
    "\n",
    "input_image = load_and_preprocess_image(input_image_path)\n",
    "\n",
    "predictions = model.predict(input_image)\n",
    "\n",
    "predicted_class = np.argmax(predictions)\n",
    "\n",
    "class_labels = ['Gotukola', 'Koppa', 'Ral Koppa']\n",
    "predicted_label = class_labels[predicted_class]\n",
    "\n",
    "print(\"Predicted Class:\", predicted_label)"
   ]
  },
  {
   "cell_type": "code",
   "execution_count": null,
   "id": "5086b46a",
   "metadata": {},
   "outputs": [],
   "source": []
  }
 ],
 "metadata": {
  "kernelspec": {
   "display_name": "Python 3 (ipykernel)",
   "language": "python",
   "name": "python3"
  },
  "language_info": {
   "codemirror_mode": {
    "name": "ipython",
    "version": 3
   },
   "file_extension": ".py",
   "mimetype": "text/x-python",
   "name": "python",
   "nbconvert_exporter": "python",
   "pygments_lexer": "ipython3",
   "version": "3.7.16"
  }
 },
 "nbformat": 4,
 "nbformat_minor": 5
}
